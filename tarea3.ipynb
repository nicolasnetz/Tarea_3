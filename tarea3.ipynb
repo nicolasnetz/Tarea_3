{
 "cells": [
  {
   "cell_type": "code",
   "execution_count": 4,
   "metadata": {},
   "outputs": [],
   "source": [
    "import numpy as np"
   ]
  },
  {
   "cell_type": "code",
   "execution_count": 29,
   "metadata": {},
   "outputs": [
    {
     "name": "stdout",
     "output_type": "stream",
     "text": [
      "['CUST NO.', 'XCOORD.', 'YCOORD.', 'DEMAND', 'READY TIME', 'DUE DATE', 'SERVICE TIME']\n"
     ]
    }
   ],
   "source": [
    "# Lectura de instancias\n",
    "file_head = []\n",
    "cols_head = []\n",
    "instance_data = []\n",
    "with open(\"instancias/n20w120.001.txt\", \"r\") as f:\n",
    "    file = f.readlines()\n",
    "    file_head = file[0].replace(\"\\n\",\"\").split(\"\\t\")\n",
    "    cols_head = file[3].replace(\"\\n\",\"\").split(\"\\t\")\n",
    "    for line in file[6:]:\n",
    "        instance_data.append(line.replace(\"\\n\",\"\").split(\"\\t\"))\n",
    "\n",
    "# Convertir en array\n",
    "instance_data = np.array(instance_data).astype(int)\n",
    "print(cols_head)"
   ]
  },
  {
   "cell_type": "code",
   "execution_count": 47,
   "metadata": {},
   "outputs": [],
   "source": [
    "# Clase instancia\n",
    "\n",
    "class Instancia:\n",
    "    def __init__(self, instance = \"instancias/n20w120.001.txt\"):\n",
    "        self.instance_name = instance.split(\"/\")[1]\n",
    "        print(self.instance_name)\n",
    "        # Parámetros\n",
    "        self.cust_no = None\n",
    "        self.coord_x = None\n",
    "        self.coord_y = None\n",
    "        self.demand = None\n",
    "        self.ready_time = None\n",
    "        self.due_date = None\n",
    "        self.service_time = None\n",
    "        # Leer archivo\n",
    "        self.problem = self.leer_archivo(instance)\n",
    "    \n",
    "    def leer_archivo(self,instance):\n",
    "        # Lectura de instancias\n",
    "        file_head = []\n",
    "        cols_head = []\n",
    "        instance_data = []\n",
    "        with open(instance, \"r\") as f:\n",
    "            file = f.readlines()\n",
    "            file_head = file[0].replace(\"\\n\",\"\").split(\"\\t\")[0].split(\" \")\n",
    "            file_head = \"{} {} {}\".format(file_head[1],file_head[5],file_head[6])\n",
    "            cols_head = file[3].replace(\"\\n\",\"\").split(\"\\t\")\n",
    "            for line in file[6:]:\n",
    "                instance_data.append(line.replace(\"\\n\",\"\").split(\"\\t\"))\n",
    "\n",
    "        # Convertir en array\n",
    "        instance_data = np.array(instance_data).astype(int)\n",
    "        self.cust_no = instance_data[:,0]\n",
    "        self.coord_x = instance_data[:,1]\n",
    "        self.coord_y = instance_data[:,2]\n",
    "        self.demand = instance_data[:,3]\n",
    "        self.ready_time = instance_data[:,4]\n",
    "        self.due_date = instance_data[:,5]\n",
    "        self.service_time = instance_data[:,6]\n",
    "        self.file_head = file_head\n",
    "\n",
    "    def __repr__(self):\n",
    "        return(\"Instancia: {} con {} clientes y header {}\".format(self.instance_name,len(self.demand), self.file_head))\n",
    "\n",
    "class Modelo:\n",
    "    def __init__(self):\n",
    "        pass"
   ]
  }
 ],
 "metadata": {
  "kernelspec": {
   "display_name": "Python 3.10.4 ('ds')",
   "language": "python",
   "name": "python3"
  },
  "language_info": {
   "codemirror_mode": {
    "name": "ipython",
    "version": 3
   },
   "file_extension": ".py",
   "mimetype": "text/x-python",
   "name": "python",
   "nbconvert_exporter": "python",
   "pygments_lexer": "ipython3",
   "version": "3.10.4"
  },
  "orig_nbformat": 4,
  "vscode": {
   "interpreter": {
    "hash": "af570bb4bd57fb337ba4a789709700ec859bee1ddeeb48934a4fb397d1f0fb4e"
   }
  }
 },
 "nbformat": 4,
 "nbformat_minor": 2
}
